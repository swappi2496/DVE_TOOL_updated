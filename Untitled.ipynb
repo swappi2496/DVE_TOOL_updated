{
 "cells": [
  {
   "cell_type": "code",
   "execution_count": 1,
   "metadata": {},
   "outputs": [
    {
     "ename": "ModuleNotFoundError",
     "evalue": "No module named 'azure.storage.blob'",
     "output_type": "error",
     "traceback": [
      "\u001b[1;31m---------------------------------------------------------------------------\u001b[0m",
      "\u001b[1;31mModuleNotFoundError\u001b[0m                       Traceback (most recent call last)",
      "\u001b[1;32m<ipython-input-1-fb2a9e5e7cd5>\u001b[0m in \u001b[0;36m<module>\u001b[1;34m()\u001b[0m\n\u001b[1;32m----> 1\u001b[1;33m \u001b[1;32mfrom\u001b[0m \u001b[0mazure\u001b[0m\u001b[1;33m.\u001b[0m\u001b[0mstorage\u001b[0m\u001b[1;33m.\u001b[0m\u001b[0mblob\u001b[0m \u001b[1;32mimport\u001b[0m \u001b[0mBlobServiceClient\u001b[0m\u001b[1;33m,\u001b[0m \u001b[0mgenerate_account_sas\u001b[0m\u001b[1;33m,\u001b[0m \u001b[0mResourceTypes\u001b[0m\u001b[1;33m,\u001b[0m \u001b[0mAccountSasPermissions\u001b[0m\u001b[1;33m\u001b[0m\u001b[0m\n\u001b[0m\u001b[0;32m      2\u001b[0m \u001b[1;33m\u001b[0m\u001b[0m\n\u001b[0;32m      3\u001b[0m \u001b[0mconn_str\u001b[0m \u001b[1;33m=\u001b[0m \u001b[1;34m'https://datavalidationblob.blob.core.windows.net-'\u001b[0m\u001b[1;33m\u001b[0m\u001b[0m\n\u001b[0;32m      4\u001b[0m \u001b[0msas\u001b[0m \u001b[1;33m=\u001b[0m \u001b[1;34m'?sv=2020-08-04&ss=bfqt&srt=sco&sp=rwdlacupitfx&se=2022-04-30T15:52:24Z&st=2022-02-10T07:52:24Z&spr=https&sig=veUIwKunWRC5yVL%2F9jp3dnfXdpC9ODOkUh0vXUrp9R0%3D'\u001b[0m\u001b[1;33m\u001b[0m\u001b[0m\n\u001b[0;32m      5\u001b[0m container_client = BlobServiceClient(account_url=conn_str,\n",
      "\u001b[1;31mModuleNotFoundError\u001b[0m: No module named 'azure.storage.blob'"
     ]
    }
   ],
   "source": [
    "from azure.storage.blob import BlobServiceClient, generate_account_sas, ResourceTypes, AccountSasPermissions\n",
    "\n",
    "conn_str = 'https://datavalidationblob.blob.core.windows.net-'\n",
    "sas = '?sv=2020-08-04&ss=bfqt&srt=sco&sp=rwdlacupitfx&se=2022-04-30T15:52:24Z&st=2022-02-10T07:52:24Z&spr=https&sig=veUIwKunWRC5yVL%2F9jp3dnfXdpC9ODOkUh0vXUrp9R0%3D'\n",
    "container_client = BlobServiceClient(account_url=conn_str,\n",
    "                                     credential=sas)"
   ]
  },
  {
   "cell_type": "code",
   "execution_count": null,
   "metadata": {},
   "outputs": [],
   "source": []
  }
 ],
 "metadata": {
  "kernelspec": {
   "display_name": "Python 3",
   "language": "python",
   "name": "python3"
  },
  "language_info": {
   "codemirror_mode": {
    "name": "ipython",
    "version": 3
   },
   "file_extension": ".py",
   "mimetype": "text/x-python",
   "name": "python",
   "nbconvert_exporter": "python",
   "pygments_lexer": "ipython3",
   "version": "3.6.4"
  }
 },
 "nbformat": 4,
 "nbformat_minor": 2
}
